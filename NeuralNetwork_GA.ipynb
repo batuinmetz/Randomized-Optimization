{
 "cells": [
  {
   "cell_type": "code",
   "execution_count": 22,
   "id": "5c352e8a-7c6b-4279-aceb-6f75ec6c3f46",
   "metadata": {},
   "outputs": [
    {
     "name": "stdout",
     "output_type": "stream",
     "text": [
      "0.9509466437177281\n",
      "Execution time in seconds: 131.2424831390381\n"
     ]
    }
   ],
   "source": [
    "import six\n",
    "import sys\n",
    "sys.modules['sklearn.externals.six'] = six\n",
    "import mlrose_hiive\n",
    "import numpy as np\n",
    "import pandas as pd\n",
    "import matplotlib.pyplot as plt\n",
    "from sklearn.model_selection import train_test_split\n",
    "from sklearn.preprocessing import MinMaxScaler, OneHotEncoder\n",
    "from sklearn import metrics\n",
    "from sklearn.model_selection import validation_curve\n",
    "from sklearn.model_selection import learning_curve\n",
    "from sklearn.metrics import accuracy_score\n",
    "from sklearn.metrics import log_loss\n",
    "from sklearn.model_selection import cross_validate\n",
    "from sklearn.model_selection import cross_val_score\n",
    "\n",
    "#getting the data set\n",
    "data=pd.read_csv('brain_stroke.csv',index_col=0)\n",
    "data.head(-5)\n",
    "#print(data)\n",
    "#print(data.isna().sum())\n",
    "#print(data.info())\n",
    "\n",
    "# Importing LabelEncoder\n",
    "from sklearn.preprocessing import LabelEncoder\n",
    "# Instantiating LabelEncoder\n",
    "le=LabelEncoder()\n",
    "# Iterating over all the values of each column and extract their dtypes\n",
    "for col in data.columns.to_numpy():\n",
    "    # Comparing if the dtype is object\n",
    "    if data[col].dtypes in ('object','category'):\n",
    "    # Using LabelEncoder to do the numeric transformation\n",
    "        data[col]=le.fit_transform(data[col].astype(str))\n",
    "\n",
    "\n",
    "#establishing the training set and the test set\n",
    "x=data.drop([\"stroke\"],axis=1)\n",
    "y=data[\"stroke\"]\n",
    "x_train,x_test,y_train,y_test=train_test_split(x,y,test_size=0.3,random_state=42,stratify=y)\n",
    "x_train.shape, x_test.shape\n",
    "\n",
    "# Normalize feature data\n",
    "scaler = MinMaxScaler()\n",
    "\n",
    "x_train_scaled = scaler.fit_transform(x_train)\n",
    "x_test_scaled = scaler.transform(x_test)\n",
    "\n",
    "import time\n",
    "startTime = time.time()\n",
    "# Initialize neural network object and fit object - attempt 1\n",
    "nn_model1 = mlrose_hiive.NeuralNetwork(hidden_nodes = [100], activation ='relu', \n",
    "                                 algorithm ='genetic_alg', curve=True, mutation_prob=0.1,\n",
    "                                 max_iters = 100, bias = True, is_classifier = True, \n",
    "                                 learning_rate = 0.01, early_stopping = False, \n",
    "                                 clip_max = 50, max_attempts = 100, random_state = 42)\n",
    "\n",
    "nn_model1.fit(x_train_scaled, y_train)\n",
    "# Predict labels for train set and assess accuracy\n",
    "y_train_pred = nn_model1.predict(x_train_scaled)\n",
    "\n",
    "y_train_accuracy = accuracy_score(y_train, y_train_pred)\n",
    "\n",
    "print(y_train_accuracy)\n",
    "\n",
    "executionTime = (time.time() - startTime)\n",
    "print('Execution time in seconds: ' + str(executionTime))"
   ]
  },
  {
   "cell_type": "code",
   "execution_count": 13,
   "id": "833ae799-df1f-4ee7-989c-bde933a4423a",
   "metadata": {},
   "outputs": [],
   "source": [
    "loss_curve=nn_model1.fitness_curve[:,0]"
   ]
  },
  {
   "cell_type": "code",
   "execution_count": 14,
   "id": "35a10c3d-5162-4239-9e65-8ced7e67b37c",
   "metadata": {},
   "outputs": [
    {
     "data": {
      "text/plain": [
       "[<matplotlib.lines.Line2D at 0x1c90a73ba60>]"
      ]
     },
     "execution_count": 14,
     "metadata": {},
     "output_type": "execute_result"
    },
    {
     "data": {
      "image/png": "[encoded data removed]",
      "text/plain": [
       "<Figure size 432x288 with 1 Axes>"
      ]
     },
     "metadata": {
      "needs_background": "light"
     },
     "output_type": "display_data"
    }
   ],
   "source": [
    "plt.plot(loss_curve)"
   ]
  },
  {
   "cell_type": "code",
   "execution_count": 21,
   "id": "9d3c6323-9d1d-4e58-a91e-6cd546f80312",
   "metadata": {},
   "outputs": [
    {
     "data": {
      "image/png": "[encoded data removed]",
      "text/plain": [
       "<Figure size 432x288 with 1 Axes>"
      ]
     },
     "metadata": {
      "needs_background": "light"
     },
     "output_type": "display_data"
    }
   ],
   "source": [
    "list_mutation=[0.1,0.2,0.3,0.4,0.5]\n",
    "for i in list_mutation:\n",
    "    nn_model1 = mlrose_hiive.NeuralNetwork(hidden_nodes = [100], activation ='relu', \n",
    "                                 algorithm ='genetic_alg', curve=True, mutation_prob=i,\n",
    "                                 max_iters = 100, bias = True, is_classifier = True, \n",
    "                                 learning_rate = 0.01, early_stopping = False, \n",
    "                                 clip_max = 50, max_attempts = 100, random_state = 42)\n",
    "    nn_model1.fit(x_train_scaled, y_train)\n",
    "    if i==0.1:\n",
    "        color='blue'\n",
    "    if i==0.2:\n",
    "        color='red'\n",
    "    if i==0.3:\n",
    "        color='green'\n",
    "    if i==0.4:\n",
    "        color='black'\n",
    "    if i==0.5:\n",
    "        color='orange'\n",
    "    loss_curve=nn_model1.fitness_curve[:,0]\n",
    "    plt.plot(loss_curve,marker='o', markersize=2,color=color, label=('GA_mutation_prob_'+str(i)))\n",
    "    plt.xlabel('Number of iterations')\n",
    "    plt.ylabel('loss score')\n",
    "    plt.legend(loc='lower right')\n",
    "    plt.grid()\n",
    "plt.show()"
   ]
  },
  {
   "cell_type": "code",
   "execution_count": null,
   "id": "7735117b-7fc7-4156-a50d-49fb0c96299c",
   "metadata": {},
   "outputs": [],
   "source": []
  }
 ],
 "metadata": {
  "kernelspec": {
   "display_name": "Python 3 (ipykernel)",
   "language": "python",
   "name": "python3"
  },
  "language_info": {
   "codemirror_mode": {
    "name": "ipython",
    "version": 3
   },
   "file_extension": ".py",
   "mimetype": "text/x-python",
   "name": "python",
   "nbconvert_exporter": "python",
   "pygments_lexer": "ipython3",
   "version": "3.9.12"
  }
 },
 "nbformat": 4,
 "nbformat_minor": 5
}
