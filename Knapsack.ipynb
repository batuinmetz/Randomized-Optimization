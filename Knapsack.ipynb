{
 "cells": [
  {
   "cell_type": "code",
   "execution_count": 18,
   "id": "c951e63c-2610-4dfd-8027-3968fce1f869",
   "metadata": {},
   "outputs": [
    {
     "name": "stdout",
     "output_type": "stream",
     "text": [
      "The best state found is:  [0 1 0 0 0 1 0 0 0 1 0 0 0 0 1 0 1 1 1 0 1 0 1 1 1 1 1 1 1 1 0 0 1 1 1 0 1\n",
      " 0 0 0 0 0 1 1 1 1 1 0 1 1 0 1 0 1 0 1 1 0 0 0 0 0 0 0 0 1 1 0 1 1 1 1 0 1\n",
      " 0 1 1 1 0 1 0 1 0 1 0 0 1 0 1 1 1 1 1 1 1 1 1 1 1 0 0 1 1 1 1 1 1 1 1 0 1\n",
      " 0 1 1 0 1 0 1 1 0 1 0 1 0 0 1 1 0 1 1 1 0 0 0 0 0 0 0 0 0 1 0 1 1 1 0 0 0\n",
      " 0 1 0 0 0 0 0 1 0 1 0 1 0 0 1 1 1 0 1 0 0 1 1 0 0 1 1 1 0 0 0 0 0 0 1 0 0\n",
      " 0 1 0 0 1 0 0 0 0 0 1 1 1 0 0]\n",
      "The fitness at the best state is:  0.0\n",
      "Execution time in seconds: 0.04100847244262695\n",
      "The best state found is:  [1 1 0 0 0 0 1 0 0 1 0 1 0 1 1 0 1 0 0 1 1 1 0 0 1 1 0 1 0 0 0 0 1 1 1 1 0\n",
      " 1 0 0 0 0 0 0 0 1 0 0 0 0 0 1 0 0 1 1 0 0 0 1 1 1 0 1 1 0 1 0 1 1 0 1 1 1\n",
      " 1 0 1 1 0 0 0 0 0 1 0 1 0 0 0 1 1 1 1 1 1 1 0 1 0 0 0 1 1 1 1 1 0 1 0 0 1\n",
      " 1 1 0 1 0 0 1 0 1 0 1 1 0 1 1 1 1 1 1 0 1 0 0 0 0 1 0 0 1 1 0 0 1 0 1 1 0\n",
      " 1 1 0 1 1 1 0 0 1 0 1 1 1 1 1 0 1 1 1 1 1 1 1 0 1 1 0 1 0 0 1 0 0 0 1 1 1\n",
      " 1 1 0 0 1 0 0 0 1 0 1 0 0 1 1]\n",
      "The fitness at the best state is:  0.0\n",
      "Execution time in seconds: 0.058118581771850586\n",
      "The best state found is:  [0 1 0 0 0 1 0 0 0 1 0 0 0 0 1 0 1 1 1 0 1 0 1 1 1 1 1 1 1 1 0 0 1 1 1 0 1\n",
      " 0 0 0 0 0 1 1 1 1 1 0 1 1 0 1 0 1 0 1 1 0 0 0 0 0 0 0 0 1 1 0 1 1 1 1 0 1\n",
      " 0 1 1 1 0 1 0 1 0 1 0 0 1 0 1 1 1 1 1 1 1 1 1 1 1 0 0 1 1 1 1 1 1 1 1 0 1\n",
      " 0 1 1 0 1 0 1 1 0 1 0 1 0 0 1 1 0 1 1 1 0 0 0 0 0 0 0 0 0 1 0 1 1 1 0 0 0\n",
      " 0 1 0 0 0 0 0 1 0 1 0 1 0 0 1 1 1 0 1 0 0 1 1 0 0 1 1 1 0 0 0 0 0 0 1 0 0\n",
      " 0 1 0 0 1 0 0 0 0 0 1 1 1 0 0]\n",
      "The fitness at the best state is:  0.0\n",
      "Execution time in seconds: 0.6879086494445801\n",
      "The best state found is:  [0 1 0 0 0 1 0 0 0 1 0 0 0 0 1 0 1 1 1 0 1 0 1 1 1 1 1 1 1 1 0 0 1 1 1 0 1\n",
      " 0 0 0 0 0 1 1 1 1 1 0 1 1 0 1 0 1 0 1 1 0 0 0 0 0 0 0 0 1 1 0 1 1 1 1 0 1\n",
      " 0 1 1 1 0 1 0 1 0 1 0 0 1 0 1 1 1 1 1 1 1 1 1 1 1 0 0 1 1 1 1 1 1 1 1 0 1\n",
      " 0 1 1 0 1 0 1 1 0 1 0 1 0 0 1 1 0 1 1 1 0 0 0 0 0 0 0 0 0 1 0 1 1 1 0 0 0\n",
      " 0 1 0 0 0 0 0 1 0 1 0 1 0 0 1 1 1 0 1 0 0 1 1 0 0 1 1 1 0 0 0 0 0 0 1 0 0\n",
      " 0 1 0 0 1 0 0 0 0 0 1 1 1 0 0]\n",
      "The fitness at the best state is:  0.0\n",
      "Execution time in seconds: 2823.5727400779724\n"
     ]
    }
   ],
   "source": [
    "import six\n",
    "import sys\n",
    "sys.modules['sklearn.externals.six'] = six\n",
    "import mlrose_hiive\n",
    "import numpy as np\n",
    "import matplotlib.pyplot as plt\n",
    "from sklearn.metrics import accuracy_score\n",
    "\n",
    "# Initialize Knapsack fitness function\n",
    "problem_length=200\n",
    "'''\n",
    "import random\n",
    "weights =[random.randint(5,10) for i in range(problem_length)] \n",
    "values = [i for i in range(1,problem_length+1)]\n",
    "max_weight_pct = 0.6\n",
    "fitness = mlrose_hiive.Knapsack(weights, values, max_weight_pct)\n",
    "'''\n",
    "import random\n",
    "weights = [random.randint(1,30) for i in range(problem_length)]\n",
    "values = [random.randint(1,20) for i in range(problem_length)]\n",
    "max_weight_pct = 0.30\n",
    "fitness = mlrose_hiive.Knapsack(weights, values, max_weight_pct)\n",
    "# Define optimization problem object\n",
    "problem = mlrose_hiive.DiscreteOpt(length =problem_length, fitness_fn= fitness, maximize=True, max_val=2)\n",
    "\n",
    "# Define decay schedule for simuladed annealing\n",
    "schedule = mlrose_hiive.ExpDecay()\n",
    "\n",
    "import time\n",
    "# Solve using randomized Hill-Climbing   \n",
    "startTime = time.time()\n",
    "best_state_rhl, best_fitness_rhl, fitness_curve_rhl = mlrose_hiive.random_hill_climb(problem, max_attempts = 1000, \n",
    "                                                      max_iters = 1000, curve= True,\n",
    "                                                      random_state = 42)\n",
    "executionTime = (time.time() - startTime)\n",
    "print('The best state found is: ', best_state_rhl)\n",
    "print('The fitness at the best state is: ', best_fitness_rhl)\n",
    "print('Execution time in seconds: ' + str(executionTime))\n",
    "#print('The fitness curve is: ', fitness_curve_rhl)\n",
    "\n",
    "\n",
    "# Solve using Simulated Annealing\n",
    "startTime = time.time()\n",
    "best_state_sa, best_fitness_sa, fitness_curve_sa = mlrose_hiive.simulated_annealing(problem, schedule = schedule, max_attempts = 1000, \n",
    "                                                      max_iters = 1000, curve= True,\n",
    "                                                      random_state = 42)\n",
    "\n",
    "executionTime = (time.time() - startTime)\n",
    "print('The best state found is: ', best_state_sa)\n",
    "print('The fitness at the best state is: ', best_fitness_sa)\n",
    "print('Execution time in seconds: ' + str(executionTime))\n",
    "#print('The fitness curve is: ', fitness_curve_sa)\n",
    "\n",
    "\n",
    "# Solve using Genetic Algorithm\n",
    "startTime = time.time()\n",
    "best_state_ga, best_fitness_ga, fitness_curve_ga = mlrose_hiive.genetic_alg(problem, pop_size=200, mutation_prob=0.1, max_attempts = 50, \n",
    "                                                      max_iters = 50, curve= True,\n",
    "                                                      random_state = 42)\n",
    "\n",
    "executionTime = (time.time() - startTime)\n",
    "print('The best state found is: ', best_state_ga)\n",
    "print('The fitness at the best state is: ', best_fitness_ga)\n",
    "print('Execution time in seconds: ' + str(executionTime))\n",
    "#print('The fitness curve is: ', fitness_curve_ga)\n",
    "\n",
    "# Solve using MIMIC\n",
    "startTime = time.time()\n",
    "best_state_mimic, best_fitness_mimic, fitness_curve_mimic = mlrose_hiive.mimic(problem, pop_size=200, keep_pct=0.2, max_attempts = 300, \n",
    "                                                      max_iters = 4000, curve= True,\n",
    "                                                      random_state = 42)\n",
    "\n",
    "executionTime = (time.time() - startTime)\n",
    "print('The best state found is: ', best_state_mimic)\n",
    "print('The fitness at the best state is: ', best_fitness_mimic)\n",
    "print('Execution time in seconds: ' + str(executionTime))\n",
    "#print('The fitness curve is: ', fitness_curve_mimic)"
   ]
  },
  {
   "cell_type": "code",
   "execution_count": 20,
   "id": "fb24e092-491e-429e-a4c7-deccd9598604",
   "metadata": {},
   "outputs": [
    {
     "data": {
      "image/png": "[encoded data removed]",
      "text/plain": [
       "<Figure size 432x288 with 1 Axes>"
      ]
     },
     "metadata": {
      "needs_background": "light"
     },
     "output_type": "display_data"
    },
    {
     "data": {
      "image/png": "[encoded data removed]",
      "text/plain": [
       "<Figure size 432x288 with 1 Axes>"
      ]
     },
     "metadata": {
      "needs_background": "light"
     },
     "output_type": "display_data"
    }
   ],
   "source": [
    "n=np.arange(0,1000)\n",
    "plt.plot(n, fitness_curve_rhl[:,0],marker='o', markersize=2,color='blue', label='RHC')\n",
    "plt.plot(n, fitness_curve_sa[:,0],marker='o', markersize=2,color='green', label='SA')\n",
    "plt.plot(np.arange(0,50), fitness_curve_ga[:,0],marker='o', markersize=2,color='red', label='GA')\n",
    "plt.plot(np.arange(0,len(fitness_curve_mimic[:,1])), fitness_curve_mimic[:,0],marker='o', markersize=2,color='black', label='MIMIC')\n",
    "plt.xlabel('Number of iterations')\n",
    "plt.ylabel('Fitness score')\n",
    "plt.legend(loc='lower right')\n",
    "plt.grid()\n",
    "plt.show()\n",
    "\n",
    "\n",
    "n=np.arange(0,1000)\n",
    "plt.plot(n, fitness_curve_rhl[:,1]-fitness_curve_rhl[1,1],marker='o', markersize=2,color='blue', label='RHC')\n",
    "plt.plot(n, fitness_curve_sa[:,1]-fitness_curve_sa[1,1],marker='o', markersize=2,color='green', label='SA')\n",
    "plt.plot(np.arange(0,len(fitness_curve_ga[:,1])), fitness_curve_ga[:,1]-fitness_curve_ga[1,1],marker='o', markersize=2,color='red', label='GA')\n",
    "plt.plot(np.arange(0,len(fitness_curve_mimic[:,1])), fitness_curve_mimic[:,1]-fitness_curve_mimic[1,1],marker='o', markersize=2,color='black', label='MIMIC')\n",
    "plt.xlabel('Number of iterations')\n",
    "plt.ylabel('Function evaluation')\n",
    "plt.legend(loc='lower right')\n",
    "plt.grid()\n",
    "plt.show()\n"
   ]
  },
  {
   "cell_type": "code",
   "execution_count": null,
   "id": "9026eb35-246e-42e3-8533-26ecd67e047d",
   "metadata": {},
   "outputs": [],
   "source": []
  }
 ],
 "metadata": {
  "kernelspec": {
   "display_name": "Python 3 (ipykernel)",
   "language": "python",
   "name": "python3"
  },
  "language_info": {
   "codemirror_mode": {
    "name": "ipython",
    "version": 3
   },
   "file_extension": ".py",
   "mimetype": "text/x-python",
   "name": "python",
   "nbconvert_exporter": "python",
   "pygments_lexer": "ipython3",
   "version": "3.9.12"
  }
 },
 "nbformat": 4,
 "nbformat_minor": 5
}
